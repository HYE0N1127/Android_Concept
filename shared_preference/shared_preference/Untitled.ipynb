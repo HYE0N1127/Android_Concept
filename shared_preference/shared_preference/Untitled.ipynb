{
 "cells": [
  {
   "cell_type": "code",
   "execution_count": 3,
   "id": "5ca2bdf8",
   "metadata": {},
   "outputs": [
    {
     "name": "stdout",
     "output_type": "stream",
     "text": [
      "32\n",
      "89.6\n"
     ]
    }
   ],
   "source": [
    "temp = int(input())\n",
    "result = 9 / 5 * temp + 32\n",
    "print(result)"
   ]
  },
  {
   "cell_type": "code",
   "execution_count": 9,
   "id": "b481d358",
   "metadata": {},
   "outputs": [
    {
     "name": "stdout",
     "output_type": "stream",
     "text": [
      "원금을 입력해주세요 : 10000\n",
      "금리를 입력해주세요 : 5\n",
      "만기를 입력해주세요 : 2\n",
      "11025\n"
     ]
    }
   ],
   "source": [
    "m = int(input(\"원금을 입력해주세요 : \"))\n",
    "r = int(input(\"금리를 입력해주세요 : \"))\n",
    "y = int(input(\"만기를 입력해주세요 : \"))\n",
    "\n",
    "result = int(m * (1 + r / 100)**y)\n",
    "print(result)"
   ]
  },
  {
   "cell_type": "code",
   "execution_count": null,
   "id": "8688f359",
   "metadata": {},
   "outputs": [],
   "source": [
    "x = int(input(\"Mbps 속도를 입력해주세요 : \"))\n",
    "y = int(input(\"다운로드 받을 파일의 용량을 적어주세요(GB) : \"))\n"
   ]
  },
  {
   "cell_type": "code",
   "execution_count": 11,
   "id": "20503eda",
   "metadata": {},
   "outputs": [
    {
     "name": "stdout",
     "output_type": "stream",
     "text": [
      "이름을 입력해주세요 : 현빈\n",
      "키를 입력해주세요 : 176\n",
      "몸무게를 입력해주세요 : 89\n",
      "현빈님의 BMI 지수는 28.731921487603305입니다.\n",
      "현빈님은 경도비만 입니다.\n"
     ]
    }
   ],
   "source": [
    "name = input(\"이름을 입력해주세요 : \")\n",
    "height = int(input(\"키를 입력해주세요 : \"))\n",
    "weight = int(input(\"몸무게를 입력해주세요 : \"))\n",
    "\n",
    "bmi = weight / ((height / 100) ** 2)\n",
    "\n",
    "print(name + \"님의 BMI 지수는 \" + str(bmi) + \"입니다.\")\n",
    "\n",
    "if bmi < 18.5 :\n",
    "    print(name + \"님은 저체중 입니다.\")\n",
    "elif 18.5 <= bmi < 23 :\n",
    "    print(name + \"님은 정상 체중입니다.\")\n",
    "elif 23 <= bmi < 25 :\n",
    "    print(name  + \"님은 과체중 입니다.\")\n",
    "elif 25 <= bmi < 30 :\n",
    "    print(name + \"님은 경도비만 입니다.\")\n",
    "elif bmi < 30 :\n",
    "    print(name + \"님은 중등도 비만입니다.\")"
   ]
  },
  {
   "cell_type": "code",
   "execution_count": 2,
   "id": "a889e042",
   "metadata": {},
   "outputs": [],
   "source": [
    "import pandas as pd\n",
    "\n",
    "def management():\n",
    "    while True:\n",
    "        name = input(\"이름을 입력해주세요 : \")\n",
    "        birthNum = input(\"주민번호 앞자리를 입력해주세요 : \")\n",
    "        personalNum = input(\"주민번호 뒷자리를 입력해주세요 : \")\n",
    "        address = input(\"주소를 입력해주세요 : \")\n",
    "        gender = \"성별\"\n",
    "        idx = 1\n",
    "\n",
    "        division = personalNum[0:1]\n",
    "\n",
    "        if division == 1 or division == 3:\n",
    "            gender = \"남자\"\n",
    "        elif division == 2 or division == 4:\n",
    "            gender = \"여자\"\n",
    "\n",
    "\n",
    "def pandas():\n",
    "    personInfo = [{'no': 0, '이름': \"김아무개\", '생년월일': 20041225, '성별': \"남자\", '주소': \"포항\"}]\n",
    "\n",
    "    pi = pd.DataFrame(personInfo, columns=['no', '이름', '생년월일', '나이', '성별', '주소'])"
   ]
  },
  {
   "cell_type": "code",
   "execution_count": null,
   "id": "bafea097",
   "metadata": {},
   "outputs": [],
   "source": []
  }
 ],
 "metadata": {
  "kernelspec": {
   "display_name": "Python 3",
   "language": "python",
   "name": "python3"
  },
  "language_info": {
   "codemirror_mode": {
    "name": "ipython",
    "version": 3
   },
   "file_extension": ".py",
   "mimetype": "text/x-python",
   "name": "python",
   "nbconvert_exporter": "python",
   "pygments_lexer": "ipython3",
   "version": "3.8.8"
  }
 },
 "nbformat": 4,
 "nbformat_minor": 5
}
